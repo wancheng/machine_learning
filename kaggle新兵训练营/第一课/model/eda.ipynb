{
 "cells": [
  {
   "cell_type": "code",
   "execution_count": 102,
   "metadata": {
    "collapsed": false
   },
   "outputs": [
    {
     "name": "stdout",
     "output_type": "stream",
     "text": [
      "hello world\n",
      "[1 2 3]\n",
      "[2 3 4]\n",
      "[3 5 7]\n",
      "0    2.0\n",
      "dtype: float64\n"
     ]
    }
   ],
   "source": [
    "import pandas as pd\n",
    "import numpy as np\n",
    "\n",
    "print 'hello world'\n",
    "a = [1,2,3]\n",
    "b = [2,3,4]\n",
    "a = np.array(a)\n",
    "b = np.array(b)\n",
    "print a\n",
    "print b\n",
    "print a+b\n",
    "a = pd.DataFrame(a)\n",
    "print a.mean()"
   ]
  },
  {
   "cell_type": "code",
   "execution_count": 103,
   "metadata": {
    "collapsed": true
   },
   "outputs": [],
   "source": [
    "\n",
    "seed = 1024\n",
    "np.random.seed(seed)\n",
    "path = \"../input/\""
   ]
  },
  {
   "cell_type": "code",
   "execution_count": 104,
   "metadata": {
    "collapsed": false
   },
   "outputs": [],
   "source": [
    "###\n",
    "# 原则上这是一个<u,i,r>三项的推荐问题\n",
    "# 最经典最常被提到的应该是amazon在电商上的应用\n",
    "# 如何不从协同过滤而是从有监督机器学习的角度去思考这个问题\n",
    "###"
   ]
  },
  {
   "cell_type": "code",
   "execution_count": 105,
   "metadata": {
    "collapsed": false
   },
   "outputs": [],
   "source": [
    "'''\n",
    "读取数据成为一个pandas dataframe\n",
    "'''\n",
    "train = pd.read_csv(path+'invited_info_train.txt',dtype={\"expert_id\":str,'question_id':str})\n",
    "test = pd.read_csv(path+'validate_nolabel.txt',dtype={\"expert_id\":str,'question_id':str}).fillna(-1)\n",
    "test.columns = ['question_id','expert_id','label']\n",
    "features = ['question_id','expert_id']\n",
    "len_train = train.shape[0]\n",
    "\n",
    "train = pd.concat([train,test])"
   ]
  },
  {
   "cell_type": "code",
   "execution_count": 106,
   "metadata": {
    "collapsed": false
   },
   "outputs": [
    {
     "data": {
      "text/html": [
       "<div>\n",
       "<table border=\"1\" class=\"dataframe\">\n",
       "  <thead>\n",
       "    <tr style=\"text-align: right;\">\n",
       "      <th></th>\n",
       "      <th>question_id</th>\n",
       "      <th>expert_id</th>\n",
       "      <th>label</th>\n",
       "    </tr>\n",
       "  </thead>\n",
       "  <tbody>\n",
       "    <tr>\n",
       "      <th>0</th>\n",
       "      <td>1c525c9d44135bdc40ddd4b8d63738d8</td>\n",
       "      <td>e6a2ecac7f90d426103de95ba7f6d2b0</td>\n",
       "      <td>0.0</td>\n",
       "    </tr>\n",
       "    <tr>\n",
       "      <th>1</th>\n",
       "      <td>43c525e69431f916efcf8d09d99602ac</td>\n",
       "      <td>64e1c3152b0ad8ab1a3b6bbda5d2bbe8</td>\n",
       "      <td>1.0</td>\n",
       "    </tr>\n",
       "    <tr>\n",
       "      <th>2</th>\n",
       "      <td>e1a1009e93ea09bdd981029b592d89b8</td>\n",
       "      <td>405c2c59eb73d115b5d73d0d0cfc9c94</td>\n",
       "      <td>0.0</td>\n",
       "    </tr>\n",
       "    <tr>\n",
       "      <th>3</th>\n",
       "      <td>60f19c960a9300aabaf95ea49a9fe4c2</td>\n",
       "      <td>11ccc1bae27f606616070eca12441ffb</td>\n",
       "      <td>0.0</td>\n",
       "    </tr>\n",
       "    <tr>\n",
       "      <th>4</th>\n",
       "      <td>cb8f85a79be9cd9aae3af4a302b865a6</td>\n",
       "      <td>628b7aa38efb4c1ce999fe5cdf46a03e</td>\n",
       "      <td>0.0</td>\n",
       "    </tr>\n",
       "    <tr>\n",
       "      <th>5</th>\n",
       "      <td>51f87230b588bde394167c5f5189570b</td>\n",
       "      <td>7476aa28bb582c0ff10172f7e5773dba</td>\n",
       "      <td>0.0</td>\n",
       "    </tr>\n",
       "    <tr>\n",
       "      <th>6</th>\n",
       "      <td>2c8114aa8218d3499b70e2d74e795380</td>\n",
       "      <td>bd8044d8f3f9c3cff6c9fa51b20c1c4d</td>\n",
       "      <td>0.0</td>\n",
       "    </tr>\n",
       "    <tr>\n",
       "      <th>7</th>\n",
       "      <td>6928456febe78441e4df6dfcbfabfe73</td>\n",
       "      <td>362a43a6750a835a33a3fbc19fc6a5db</td>\n",
       "      <td>0.0</td>\n",
       "    </tr>\n",
       "    <tr>\n",
       "      <th>8</th>\n",
       "      <td>e888f91bd5d4710599cf217ee69dbdd6</td>\n",
       "      <td>acfde6daece350084e3a77e98972f2fb</td>\n",
       "      <td>0.0</td>\n",
       "    </tr>\n",
       "    <tr>\n",
       "      <th>9</th>\n",
       "      <td>400d208277095f149bbbd2f5dc45b501</td>\n",
       "      <td>9de7878db83d8799c37df99a50129d58</td>\n",
       "      <td>0.0</td>\n",
       "    </tr>\n",
       "  </tbody>\n",
       "</table>\n",
       "</div>"
      ],
      "text/plain": [
       "                        question_id                         expert_id  label\n",
       "0  1c525c9d44135bdc40ddd4b8d63738d8  e6a2ecac7f90d426103de95ba7f6d2b0    0.0\n",
       "1  43c525e69431f916efcf8d09d99602ac  64e1c3152b0ad8ab1a3b6bbda5d2bbe8    1.0\n",
       "2  e1a1009e93ea09bdd981029b592d89b8  405c2c59eb73d115b5d73d0d0cfc9c94    0.0\n",
       "3  60f19c960a9300aabaf95ea49a9fe4c2  11ccc1bae27f606616070eca12441ffb    0.0\n",
       "4  cb8f85a79be9cd9aae3af4a302b865a6  628b7aa38efb4c1ce999fe5cdf46a03e    0.0\n",
       "5  51f87230b588bde394167c5f5189570b  7476aa28bb582c0ff10172f7e5773dba    0.0\n",
       "6  2c8114aa8218d3499b70e2d74e795380  bd8044d8f3f9c3cff6c9fa51b20c1c4d    0.0\n",
       "7  6928456febe78441e4df6dfcbfabfe73  362a43a6750a835a33a3fbc19fc6a5db    0.0\n",
       "8  e888f91bd5d4710599cf217ee69dbdd6  acfde6daece350084e3a77e98972f2fb    0.0\n",
       "9  400d208277095f149bbbd2f5dc45b501  9de7878db83d8799c37df99a50129d58    0.0"
      ]
     },
     "execution_count": 106,
     "metadata": {},
     "output_type": "execute_result"
    }
   ],
   "source": [
    "'''\n",
    "查看数据的前10行\n",
    "'''\n",
    "train.head(10)"
   ]
  },
  {
   "cell_type": "code",
   "execution_count": 107,
   "metadata": {
    "collapsed": false
   },
   "outputs": [
    {
     "name": "stdout",
     "output_type": "stream",
     "text": [
      "length of train 276218\n",
      "unique expert train 27937\n",
      "unique question train 7778\n",
      "ratio expert 0.10114112766\n",
      "ratio question 0.0281589179561\n",
      "question answered by per expert 9.88717471454\n",
      "expert answering per question 35.5127282078\n"
     ]
    }
   ],
   "source": [
    "'''\n",
    "对数据做初步的分析\n",
    "'''\n",
    "\n",
    "print 'length of train',train.shape[0]\n",
    "\n",
    "print 'unique expert train',train['expert_id'].nunique()\n",
    "print 'unique question train',train['question_id'].nunique()\n",
    "print 'ratio expert',train['expert_id'].nunique()/float(train.shape[0])\n",
    "print 'ratio question',train['question_id'].nunique()/float(train.shape[0])\n",
    "\n",
    "print 'question answered by per expert',train.groupby('expert_id')[\"question_id\"].count().mean()\n",
    "print 'expert answering per question',train.groupby('question_id')[\"expert_id\"].count().mean()\n",
    "\n",
    "# [0,1,0,0,0,0,0,0,0,0,0]"
   ]
  },
  {
   "cell_type": "code",
   "execution_count": 108,
   "metadata": {
    "collapsed": false
   },
   "outputs": [
    {
     "data": {
      "text/plain": [
       "0        25169\n",
       "1        11085\n",
       "2         7004\n",
       "3         1873\n",
       "4        10824\n",
       "5        12748\n",
       "6        20730\n",
       "7         5916\n",
       "8        18981\n",
       "9        17309\n",
       "10       12049\n",
       "11        4149\n",
       "12        8336\n",
       "13       24451\n",
       "14       18654\n",
       "15       19960\n",
       "16        3794\n",
       "17        5946\n",
       "18         251\n",
       "19        8248\n",
       "20        6246\n",
       "21        3726\n",
       "22        8923\n",
       "23        7150\n",
       "24       15040\n",
       "25        5368\n",
       "26       19129\n",
       "27        9042\n",
       "28        8510\n",
       "29       21234\n",
       "         ...  \n",
       "30436    14425\n",
       "30437    16516\n",
       "30438    24069\n",
       "30439    24567\n",
       "30440     7287\n",
       "30441    20006\n",
       "30442     9116\n",
       "30443     1546\n",
       "30444    24080\n",
       "30445    24476\n",
       "30446    26023\n",
       "30447    17891\n",
       "30448     7849\n",
       "30449    13524\n",
       "30450     3556\n",
       "30451     6928\n",
       "30452    14756\n",
       "30453    24861\n",
       "30454    24445\n",
       "30455     7247\n",
       "30456     1937\n",
       "30457     2427\n",
       "30458     6383\n",
       "30459    11852\n",
       "30460     6779\n",
       "30461     8803\n",
       "30462    23280\n",
       "30463     3063\n",
       "30464    27850\n",
       "30465     1047\n",
       "Name: expert_id, dtype: int64"
      ]
     },
     "execution_count": 108,
     "metadata": {},
     "output_type": "execute_result"
    }
   ],
   "source": [
    "from sklearn.preprocessing import LabelEncoder\n",
    "#对expert_id编码\n",
    "le_expert = LabelEncoder()\n",
    "le_expert.fit(train['expert_id'])\n",
    "train['expert_id'] = le_expert.transform(train['expert_id'])\n",
    "train['expert_id']"
   ]
  },
  {
   "cell_type": "code",
   "execution_count": 109,
   "metadata": {
    "collapsed": false
   },
   "outputs": [
    {
     "data": {
      "text/plain": [
       "0         891\n",
       "1        2079\n",
       "2        6861\n",
       "3        2929\n",
       "4        6209\n",
       "5        2503\n",
       "6        1402\n",
       "7        3158\n",
       "8        7056\n",
       "9        1983\n",
       "10       3341\n",
       "11       5843\n",
       "12       2341\n",
       "13       3043\n",
       "14       5324\n",
       "15       3317\n",
       "16       1194\n",
       "17        176\n",
       "18       2860\n",
       "19       4319\n",
       "20       7510\n",
       "21       3030\n",
       "22       2912\n",
       "23       5005\n",
       "24       7430\n",
       "25       6144\n",
       "26       6461\n",
       "27       2031\n",
       "28       1370\n",
       "29       4560\n",
       "         ... \n",
       "30436    4917\n",
       "30437    6072\n",
       "30438    5889\n",
       "30439    6488\n",
       "30440     745\n",
       "30441    1889\n",
       "30442    2548\n",
       "30443    5202\n",
       "30444    5617\n",
       "30445    4174\n",
       "30446    3158\n",
       "30447    2350\n",
       "30448    2056\n",
       "30449    7395\n",
       "30450    6142\n",
       "30451    5727\n",
       "30452    6674\n",
       "30453    7746\n",
       "30454    3348\n",
       "30455    2155\n",
       "30456    7704\n",
       "30457    1550\n",
       "30458    1702\n",
       "30459    4473\n",
       "30460    6826\n",
       "30461    7361\n",
       "30462    4473\n",
       "30463    4917\n",
       "30464    2395\n",
       "30465    2957\n",
       "Name: question_id, dtype: int64"
      ]
     },
     "execution_count": 109,
     "metadata": {},
     "output_type": "execute_result"
    }
   ],
   "source": [
    "#对question_id编码\n",
    "le_question = LabelEncoder()\n",
    "le_question.fit(train['question_id'])\n",
    "train['question_id'] = le_question.transform(train['question_id'])\n",
    "train['question_id'] \n"
   ]
  },
  {
   "cell_type": "code",
   "execution_count": 110,
   "metadata": {
    "collapsed": false
   },
   "outputs": [
    {
     "data": {
      "text/html": [
       "<div>\n",
       "<table border=\"1\" class=\"dataframe\">\n",
       "  <thead>\n",
       "    <tr style=\"text-align: right;\">\n",
       "      <th></th>\n",
       "      <th>question_id</th>\n",
       "      <th>expert_id</th>\n",
       "      <th>label</th>\n",
       "    </tr>\n",
       "  </thead>\n",
       "  <tbody>\n",
       "    <tr>\n",
       "      <th>0</th>\n",
       "      <td>891</td>\n",
       "      <td>25169</td>\n",
       "      <td>0.0</td>\n",
       "    </tr>\n",
       "    <tr>\n",
       "      <th>1</th>\n",
       "      <td>2079</td>\n",
       "      <td>11085</td>\n",
       "      <td>1.0</td>\n",
       "    </tr>\n",
       "    <tr>\n",
       "      <th>2</th>\n",
       "      <td>6861</td>\n",
       "      <td>7004</td>\n",
       "      <td>0.0</td>\n",
       "    </tr>\n",
       "    <tr>\n",
       "      <th>3</th>\n",
       "      <td>2929</td>\n",
       "      <td>1873</td>\n",
       "      <td>0.0</td>\n",
       "    </tr>\n",
       "    <tr>\n",
       "      <th>4</th>\n",
       "      <td>6209</td>\n",
       "      <td>10824</td>\n",
       "      <td>0.0</td>\n",
       "    </tr>\n",
       "    <tr>\n",
       "      <th>5</th>\n",
       "      <td>2503</td>\n",
       "      <td>12748</td>\n",
       "      <td>0.0</td>\n",
       "    </tr>\n",
       "    <tr>\n",
       "      <th>6</th>\n",
       "      <td>1402</td>\n",
       "      <td>20730</td>\n",
       "      <td>0.0</td>\n",
       "    </tr>\n",
       "    <tr>\n",
       "      <th>7</th>\n",
       "      <td>3158</td>\n",
       "      <td>5916</td>\n",
       "      <td>0.0</td>\n",
       "    </tr>\n",
       "    <tr>\n",
       "      <th>8</th>\n",
       "      <td>7056</td>\n",
       "      <td>18981</td>\n",
       "      <td>0.0</td>\n",
       "    </tr>\n",
       "    <tr>\n",
       "      <th>9</th>\n",
       "      <td>1983</td>\n",
       "      <td>17309</td>\n",
       "      <td>0.0</td>\n",
       "    </tr>\n",
       "  </tbody>\n",
       "</table>\n",
       "</div>"
      ],
      "text/plain": [
       "   question_id  expert_id  label\n",
       "0          891      25169    0.0\n",
       "1         2079      11085    1.0\n",
       "2         6861       7004    0.0\n",
       "3         2929       1873    0.0\n",
       "4         6209      10824    0.0\n",
       "5         2503      12748    0.0\n",
       "6         1402      20730    0.0\n",
       "7         3158       5916    0.0\n",
       "8         7056      18981    0.0\n",
       "9         1983      17309    0.0"
      ]
     },
     "execution_count": 110,
     "metadata": {},
     "output_type": "execute_result"
    }
   ],
   "source": [
    "train.head(10)\n",
    "# '''\n",
    "# 但是，即使转化为数字表示后，上述数据也不能直接用在我们的分类器中。\n",
    "# 因为，线性分类器等往往默认数据数据是连续的，并且是有序的。但是，按照我们上述的表示，数字并不是有序的，而是随机分配的。\n",
    "# '''"
   ]
  },
  {
   "cell_type": "code",
   "execution_count": 111,
   "metadata": {
    "collapsed": true
   },
   "outputs": [],
   "source": [
    "# from sklearn.preprocessing import  OneHotEncoder\n",
    "# #独热编码所有id特征\n",
    "# enc = OneHotEncoder()\n",
    "# enc.fit(train[features])\n",
    "# X = enc.transform(train[features])\n",
    "# y = train['label'].values\n",
    "# X = X[:len_train]\n",
    "\n",
    "\n"
   ]
  },
  {
   "cell_type": "code",
   "execution_count": 112,
   "metadata": {
    "collapsed": false
   },
   "outputs": [],
   "source": [
    "# enc = OneHotEncoder()\n",
    "# enc.fit(train[['expert_id']])\n",
    "# X = enc.transform(train[['expert_id']])\n",
    "# # y = train['label'].values\n",
    "# # X = X[:len_train]\n",
    "# # print X[:10].toarray()\n",
    "# # 27937\n",
    "# # 0,1\n",
    "# print train['expert_id'].values[0]\n",
    "# print X[0].toarray().ravel()[25169]"
   ]
  },
  {
   "cell_type": "code",
   "execution_count": 127,
   "metadata": {
    "collapsed": false
   },
   "outputs": [
    {
     "data": {
      "text/plain": [
       "'\\n\\xe7\\x8b\\xac\\xe7\\x83\\xad\\xe7\\xbc\\x96\\xe7\\xa0\\x81\\xe8\\xbf\\x87\\xe5\\x90\\x8e\\xef\\xbc\\x8c\\xe5\\xbe\\x97\\xe5\\x88\\xb0\\xe7\\x9a\\x84\\xe7\\x9f\\xa9\\xe9\\x98\\xb5\\xe6\\x98\\xaf\\xe4\\xb8\\x80\\xe4\\xb8\\xaa\\xe7\\xa8\\x80\\xe7\\x96\\x8f\\xe7\\x9f\\xa9\\xe9\\x98\\xb5\\xef\\xbc\\x8c\\xe6\\xaf\\x8f\\xe4\\xb8\\x80\\xe8\\xa1\\x8c\\xe4\\xbb\\xa3\\xe8\\xa1\\xa8\\xe4\\xb8\\x80\\xe6\\x9d\\xa1\\xe8\\xae\\xb0\\xe5\\xbd\\x95\\n\\xe6\\xaf\\x8f\\xe4\\xb8\\x80\\xe8\\xa1\\x8c\\xe4\\xb8\\xad\\xe7\\x9a\\x84\\xe5\\x85\\x83\\xe7\\xb4\\xa0\\xe5\\x8f\\xaa\\xe8\\x83\\xbd\\xe4\\xb8\\xba0\\xe6\\x88\\x96\\xe8\\x80\\x851\\n'"
      ]
     },
     "execution_count": 127,
     "metadata": {},
     "output_type": "execute_result"
    }
   ],
   "source": [
    "# print X[:10].toarray()\n",
    "# print X.shape\n",
    "\n",
    "X = train[features].values\n",
    "'''\n",
    "独热编码过后，得到的矩阵是一个稀疏矩阵，每一行代表一条记录\n",
    "每一行中的元素只能为0或者1\n",
    "'''"
   ]
  },
  {
   "cell_type": "code",
   "execution_count": 128,
   "metadata": {
    "collapsed": false
   },
   "outputs": [],
   "source": [
    "'''\n",
    "切分数据集\n",
    "'''\n",
    "from sklearn.model_selection import KFold\n",
    "\n",
    "kf = KFold(n_splits=10,shuffle=True,random_state=1024).split(X)\n",
    "for ind_tr,ind_te in kf:\n",
    "    X_train = X[ind_tr]\n",
    "    X_test = X[ind_te]\n",
    "    y_train = y[ind_tr]\n",
    "    y_test = y[ind_te]\n",
    "    break\n",
    "\n"
   ]
  },
  {
   "cell_type": "code",
   "execution_count": 129,
   "metadata": {
    "collapsed": false
   },
   "outputs": [
    {
     "data": {
      "text/plain": [
       "Ridge(alpha=0, copy_X=True, fit_intercept=True, max_iter=None,\n",
       "   normalize=False, random_state=1024, solver='auto', tol=0.001)"
      ]
     },
     "execution_count": 129,
     "metadata": {},
     "output_type": "execute_result"
    }
   ],
   "source": [
    "'''\n",
    "训练模型\n",
    "'''\n",
    "from sklearn.linear_model import Ridge,Lasso\n",
    "lr = Ridge(alpha=0,random_state=1024)\n",
    "lr.fit(X_train,y_train)\n",
    "\n",
    "\n"
   ]
  },
  {
   "cell_type": "code",
   "execution_count": 131,
   "metadata": {
    "collapsed": true
   },
   "outputs": [],
   "source": [
    "y_pred = lr.predict(X_test)\n",
    "y_pred[y_pred>0.5]=1\n",
    "y_pred[y_pred<=0.5]=0"
   ]
  },
  {
   "cell_type": "code",
   "execution_count": 132,
   "metadata": {
    "collapsed": false
   },
   "outputs": [
    {
     "name": "stdout",
     "output_type": "stream",
     "text": [
      "accuracy_score 0.791217145753\n",
      "[ 0.  0.  0.  0.  0.  0.  0.  0.  0.  0.  0.  0.  0.  1.  0.  0.  1.  0.\n",
      "  0.  0.]\n",
      "[ 0.  0.  0.  0.  0.  0.  0.  0.  0.  0.  0.  0.  0.  0.  0.  0.  0.  0.\n",
      "  0.  0.]\n"
     ]
    }
   ],
   "source": [
    "'''\n",
    "数据的评估\n",
    "'''\n",
    "from sklearn.metrics import accuracy_score,roc_auc_score\n",
    "score = accuracy_score(y_test,y_pred)\n",
    "print 'accuracy_score',score\n",
    "# score = roc_auc_score(y_test,y_pred)\n",
    "# print 'roc_auc_score',score\n",
    "print y_test[:20]\n",
    "print y_pred[:20]\n",
    "\n",
    "id_1 = 2000\n",
    "id_2 = 2001\n",
    "id_3 = 40000\n"
   ]
  },
  {
   "cell_type": "code",
   "execution_count": 125,
   "metadata": {
    "collapsed": true
   },
   "outputs": [],
   "source": [
    "ground_truth = np.zeros(100)\n",
    "\n",
    "ground_truth[:10]+=1"
   ]
  },
  {
   "cell_type": "code",
   "execution_count": 119,
   "metadata": {
    "collapsed": false
   },
   "outputs": [
    {
     "data": {
      "text/plain": [
       "array([ 1.,  1.,  1.,  1.,  1.,  1.,  1.,  1.,  1.,  1.,  0.,  0.,  0.,\n",
       "        0.,  0.,  0.,  0.,  0.,  0.,  0.,  0.,  0.,  0.,  0.,  0.,  0.,\n",
       "        0.,  0.,  0.,  0.,  0.,  0.,  0.,  0.,  0.,  0.,  0.,  0.,  0.,\n",
       "        0.,  0.,  0.,  0.,  0.,  0.,  0.,  0.,  0.,  0.,  0.,  0.,  0.,\n",
       "        0.,  0.,  0.,  0.,  0.,  0.,  0.,  0.,  0.,  0.,  0.,  0.,  0.,\n",
       "        0.,  0.,  0.,  0.,  0.,  0.,  0.,  0.,  0.,  0.,  0.,  0.,  0.,\n",
       "        0.,  0.,  0.,  0.,  0.,  0.,  0.,  0.,  0.,  0.,  0.,  0.,  0.,\n",
       "        0.,  0.,  0.,  0.,  0.,  0.,  0.,  0.,  0.])"
      ]
     },
     "execution_count": 119,
     "metadata": {},
     "output_type": "execute_result"
    }
   ],
   "source": [
    "ground_truth"
   ]
  },
  {
   "cell_type": "code",
   "execution_count": 120,
   "metadata": {
    "collapsed": false
   },
   "outputs": [
    {
     "name": "stdout",
     "output_type": "stream",
     "text": [
      "accuracy_score 0.9\n"
     ]
    }
   ],
   "source": [
    "y_pred = np.zeros(100)\n",
    "score = accuracy_score(ground_truth,y_pred)\n",
    "print 'accuracy_score',score"
   ]
  },
  {
   "cell_type": "code",
   "execution_count": null,
   "metadata": {
    "collapsed": true
   },
   "outputs": [],
   "source": []
  }
 ],
 "metadata": {
  "kernelspec": {
   "display_name": "Python 2",
   "language": "python",
   "name": "python2"
  },
  "language_info": {
   "codemirror_mode": {
    "name": "ipython",
    "version": 2
   },
   "file_extension": ".py",
   "mimetype": "text/x-python",
   "name": "python",
   "nbconvert_exporter": "python",
   "pygments_lexer": "ipython2",
   "version": "2.7.11"
  }
 },
 "nbformat": 4,
 "nbformat_minor": 0
}
